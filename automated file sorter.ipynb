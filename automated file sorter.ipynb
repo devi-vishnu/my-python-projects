{
 "cells": [
  {
   "cell_type": "code",
   "execution_count": 2,
   "id": "b88511a8",
   "metadata": {},
   "outputs": [],
   "source": [
    "import os, shutil\n",
    "path = r'C:/Users/vyshn/OneDrive/Documents/py alt file sorter/'\n",
    "file_name = os.listdir(path)\n",
    "\n"
   ]
  },
  {
   "cell_type": "code",
   "execution_count": 3,
   "id": "a71f20c4",
   "metadata": {},
   "outputs": [],
   "source": [
    "folder_names=['csv files', 'image files', 'text files']\n",
    "for loop in range (0,3):\n",
    "    if not os.path.exists(path+ folder_names[loop]):\n",
    "        print(path+ folder_names[loop])\n",
    "        os.makedirs(path+ folder_names[loop])\n",
    "        \n",
    "for file in file_name :\n",
    "    if'.xlsx' in file and not os.path.exists(path + 'csv files/' + file):\n",
    "        shutil.move(path + file, path + 'csv files/' + file)\n",
    "    elif '.jpg' in file and not os.path.exists(path + 'image files/' + file):\n",
    "        shutil.move(path + file, path + 'image files/' + file)\n",
    "    elif '.rtf' in file and not os.path.exists(path + 'text files/' + file):\n",
    "        shutil.move(path + file, path + 'text files/' + file)"
   ]
  },
  {
   "cell_type": "code",
   "execution_count": null,
   "id": "7c2f619c",
   "metadata": {},
   "outputs": [],
   "source": []
  },
  {
   "cell_type": "code",
   "execution_count": null,
   "id": "7250aaf1",
   "metadata": {},
   "outputs": [],
   "source": []
  },
  {
   "cell_type": "code",
   "execution_count": null,
   "id": "50d52795",
   "metadata": {},
   "outputs": [],
   "source": []
  },
  {
   "cell_type": "code",
   "execution_count": null,
   "id": "5c286dcc",
   "metadata": {},
   "outputs": [],
   "source": []
  },
  {
   "cell_type": "code",
   "execution_count": null,
   "id": "d8c16ab2",
   "metadata": {},
   "outputs": [],
   "source": []
  }
 ],
 "metadata": {
  "kernelspec": {
   "display_name": "Python 3 (ipykernel)",
   "language": "python",
   "name": "python3"
  },
  "language_info": {
   "codemirror_mode": {
    "name": "ipython",
    "version": 3
   },
   "file_extension": ".py",
   "mimetype": "text/x-python",
   "name": "python",
   "nbconvert_exporter": "python",
   "pygments_lexer": "ipython3",
   "version": "3.11.5"
  }
 },
 "nbformat": 4,
 "nbformat_minor": 5
}
