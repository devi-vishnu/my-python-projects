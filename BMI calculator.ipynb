{
 "cells": [
  {
   "cell_type": "code",
   "execution_count": 1,
   "id": "ebf04fe3",
   "metadata": {},
   "outputs": [
    {
     "name": "stdout",
     "output_type": "stream",
     "text": [
      "Enter your name: vishnu\n",
      "Enter your weight in pounds : 141\n",
      "Enter your height in inches : 64\n",
      "24.199951171875\n",
      "vishnu, You are normal weight.\n"
     ]
    }
   ],
   "source": [
    "name = input('Enter your name: ')\n",
    "weight = int(input('Enter your weight in pounds : '))\n",
    "height = int(input('Enter your height in inches : '))\n",
    "BMI = (weight * 703)/(height*height)\n",
    "print (BMI)\n",
    "if BMI > 0:\n",
    "    if BMI < 18.5:\n",
    "        print(name + ', You are underweight.')\n",
    "    elif BMI <= 24.9:\n",
    "        print(name + ', You are normal weight.')\n",
    "    elif BMI <= 29.9:\n",
    "        print(name + ', You are overweight.')\n",
    "    elif BMI <= 34.9:\n",
    "        print(name + ', You are obese.')\n",
    "    elif BMI <= 39.9:\n",
    "        print(name + ', You are severely obese.')\n",
    "    else:\n",
    "        print(name + ', You are morbidly obese.')\n",
    "else:\n",
    "    print('Enter valid inputs')\n",
    "\n"
   ]
  },
  {
   "cell_type": "code",
   "execution_count": null,
   "id": "352144a4",
   "metadata": {},
   "outputs": [],
   "source": []
  },
  {
   "cell_type": "code",
   "execution_count": null,
   "id": "66abbc68",
   "metadata": {},
   "outputs": [],
   "source": []
  },
  {
   "cell_type": "code",
   "execution_count": null,
   "id": "4a8f03f7",
   "metadata": {},
   "outputs": [],
   "source": []
  },
  {
   "cell_type": "code",
   "execution_count": null,
   "id": "1555cc76",
   "metadata": {},
   "outputs": [],
   "source": []
  }
 ],
 "metadata": {
  "kernelspec": {
   "display_name": "Python 3 (ipykernel)",
   "language": "python",
   "name": "python3"
  },
  "language_info": {
   "codemirror_mode": {
    "name": "ipython",
    "version": 3
   },
   "file_extension": ".py",
   "mimetype": "text/x-python",
   "name": "python",
   "nbconvert_exporter": "python",
   "pygments_lexer": "ipython3",
   "version": "3.11.5"
  }
 },
 "nbformat": 4,
 "nbformat_minor": 5
}
